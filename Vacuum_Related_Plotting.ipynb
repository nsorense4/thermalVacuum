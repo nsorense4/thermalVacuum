{
 "cells": [
  {
   "cell_type": "code",
   "execution_count": 3,
   "metadata": {},
   "outputs": [
    {
     "name": "stdout",
     "output_type": "stream",
     "text": [
      "Populating the interactive namespace from numpy and matplotlib\n"
     ]
    },
    {
     "name": "stderr",
     "output_type": "stream",
     "text": [
      "C:\\ProgramData\\Miniconda3\\lib\\site-packages\\IPython\\core\\magics\\pylab.py:160: UserWarning: pylab import has clobbered these variables: ['datetime', 'isinf', 'fabs', 'fmod', 'hypot', 'isnan', 'axes', 'contour', 'expm1', 'modf', 'rc', 'rcdefaults', 'legend', 'frexp', 'table', 'degrees', 'set_loglevel', 'e', 'exp', 'tan', 'inf', 'isclose', 'ldexp', 'rc_context', 'nan', 'log', 'log1p', 'colorbar', 'cycler', 'pi', 'log10', 'sinh', 'text', 'cos', 'sin', 'isfinite', 'gcd', 'tri', 'floor', 'stackplot', 'gamma', 'ceil', 'streamplot', 'plt', 'trunc', 'test', 'copysign', 'radians', 'axis', 'tanh', 'figure', 'sqrt', 'quiver', 'remainder', 'tight_layout', 'cosh', 'log2']\n",
      "`%matplotlib` prevents importing * from pylab and numpy\n",
      "  \"\\n`%matplotlib` prevents importing * from pylab and numpy\"\n"
     ]
    }
   ],
   "source": [
    "%pylab notebook\n",
    "%matplotlib inline\n",
    "import matplotlib.pyplot as plt\n",
    "from matplotlib import *\n",
    "import numpy as np\n",
    "from math import *\n",
    "import time\n",
    "import pandas as pd\n",
    "from datetime import datetime\n",
    "import csv\n",
    "from scipy import integrate\n",
    "import itertools\n",
    "from scipy.special import jv\n",
    "import csv\n",
    "import numpy as np\n",
    "import pylab as plt"
   ]
  },
  {
   "cell_type": "code",
   "execution_count": null,
   "metadata": {},
   "outputs": [],
   "source": [
    "#calculate the appropriate V_pi\n",
    "from scipy.optimize import curve_fit\n",
    "\n",
    "def appfunc(V, vpi):\n",
    "    return jv(0,V*pi/vpi)**2\n",
    "\n",
    "def appfuncside1(V, vpi):\n",
    "    return jv(1,V*pi/vpi)**2\n",
    "\n",
    "def appfunc2(f, a, b):\n",
    "    return a*f+b\n",
    "\n",
    "def optvpi(xdata, ydata):\n",
    "    popt, pcov = curve_fit(appfunc, xdata, ydata)\n",
    "    return [popt,pcov]\n",
    "\n",
    "def optvpiside1(xdata, ydata):\n",
    "    popt, pcov = curve_fit(appfuncside1, xdata, ydata)\n",
    "    return [popt,pcov]\n",
    "\n",
    "def optvpitrend(xdata, ydata):\n",
    "    popt, pcov = curve_fit(appfunc2, xdata, ydata)\n",
    "    return [popt,pcov]"
   ]
  },
  {
   "cell_type": "code",
   "execution_count": 29,
   "metadata": {},
   "outputs": [
    {
     "name": "stderr",
     "output_type": "stream",
     "text": [
      "C:\\ProgramData\\Miniconda3\\lib\\site-packages\\ipykernel_launcher.py:8: MatplotlibDeprecationWarning: Support for setting the 'text.latex.preamble' or 'pgf.preamble' rcParam to a list of strings is deprecated since 3.3 and will be removed two minor releases later; set it to a single string instead.\n",
      "  \n"
     ]
    },
    {
     "data": {
      "text/plain": [
       "<matplotlib.legend.Legend at 0x1edc15ee648>"
      ]
     },
     "execution_count": 29,
     "metadata": {},
     "output_type": "execute_result"
    },
    {
     "data": {
      "image/png": "[encoded data removed]",
      "text/plain": [
       "<Figure size 864x432 with 2 Axes>"
      ]
     },
     "metadata": {},
     "output_type": "display_data"
    }
   ],
   "source": [
    "#set global plotting parameters\n",
    "linew = 5.0 #line width\n",
    "#msize = 14 #marker size\n",
    "axew = 1.0 #axes width\n",
    "\n",
    "plt.rc('text', usetex=True)\n",
    "plt.rc('font', family='serif')\n",
    "matplotlib.rcParams['text.latex.preamble']=[r\"\\usepackage{amsmath}\"]\n",
    "\n",
    "#set the distance to offset the numbers from the ticks\n",
    "numpad = 15\n",
    "\n",
    "vpis = []\n",
    "\n",
    "#set global tick parameters\n",
    "majw = axew #major tick width\n",
    "majl = 10.0 #major tick length\n",
    "minw = axew #minor tick width\n",
    "minl = 5.0 #minor tick length\n",
    "\n",
    "#set global font sizes\n",
    "axefont = 20 #axis label font size\n",
    "numsize = 20 #axis number font size\n",
    "legfont = 20 #legend font size\n",
    "labelfont=30\n",
    "\n",
    "#format axis labels\n",
    "#x_locator = FixedLocator([0,.5,1.0])\n",
    "#x_formatter = FixedFormatter([0,.5,1.0])\n",
    "#y_locator = FixedLocator([0,.5,1.00])\n",
    "#y_formatter = FixedFormatter([0,.5,1.00])\n",
    "\n",
    "fig, axes = plt.subplots(nrows=1, ncols=2, figsize=(12,6))\n",
    "plt.subplots_adjust(hspace=0.0)\n",
    "fig.set_facecolor('w')\n",
    "fig.subplots_adjust(hspace=0.2, wspace=0.2)\n",
    "\n",
    "axes[0].set_ylabel(r'$P$ (Torr)', fontsize = labelfont)\n",
    "axes[0].set_xlabel(r'$t$ (hr)', fontsize = labelfont)\n",
    "axes[1].set_xlabel(r'$t$ (min)', fontsize = labelfont)\n",
    "\n",
    "for i in range(0,len(axes)):\n",
    "    axes[i].tick_params(axis='x',which='major',width=majw,length=majl,labelsize=numsize,zorder=1,direction='in',pad=numpad,top='off')\n",
    "    axes[i].tick_params(axis='x',which='minor',width=minw,length=minl,labelsize=numsize,zorder=1,direction='in',pad=numpad,top='off')\n",
    "    axes[i].tick_params(axis='y',which='major',width=majw,length=majl,labelsize=numsize,zorder=1,direction='in',pad=numpad,right='off')\n",
    "    axes[i].tick_params(axis='y',which='minor',width=minw,length=minl,labelsize=numsize,zorder=1,direction='in',pad=numpad,right='off')\n",
    "\n",
    "\n",
    "for axis in ['top','bottom','left','right']:\n",
    "    axes[0].spines[axis].set_linewidth(3)\n",
    "    axes[1].spines[axis].set_linewidth(3)\n",
    "\n",
    "def importCSV(fname, rowno):\n",
    "    data = []\n",
    "    with open(fname, newline='') as csvfile:\n",
    "        csvReader = csv.reader(csvfile)\n",
    "        for row in csvReader:\n",
    "            data.append(float(row[rowno]))\n",
    "    return data\n",
    "\n",
    "vacuum_pred_x = np.array(importCSV('Vacuum_Prediction.csv',0))\n",
    "vacuum_pred_y = np.array(importCSV('Vacuum_Prediction.csv',1))\n",
    "\n",
    "meas_x = [0, 6, 9, 19, 23, 27, 31, 35, 40, 48, 63, 77, 86, 106, 117, 156, 189, 267]\n",
    "meas_y = [760, 3, 1e-2, 1.4e-5, 1.1e-5,9.8e-6, 8.7e-6, 7.8e-6, 7.2e-6, 6.4e-6, 5.1e-6, 4.6e-6, 4.2e-6, 3.6e-6, 3.3e-6, 2.8e-6, 2.5e-6, 2e-6]\n",
    "\n",
    "\n",
    "axes[0].plot(vacuum_pred_x, vacuum_pred_y ,linewidth = 3, color ='dodgerblue',label='Loadless - Predicted')\n",
    "axes[0].plot(np.array(meas_x)/60, meas_y ,'.',color='blue',markeredgewidth=1.5, markeredgecolor='k',markersize=22,zorder=3,label='Loadless - Measured')\n",
    "\n",
    "\n",
    "axes[1].plot(vacuum_pred_x*60, vacuum_pred_y ,linewidth = 3, color ='dodgerblue',label='Loadless Predicted')\n",
    "axes[1].plot(np.array(meas_x), meas_y,'.',color='blue',markeredgewidth=1.5, markeredgecolor='k',markersize=22,zorder=3,label='Pred')\n",
    "axes[1].set_xlim(-5,15)\n",
    "axes[0].set_yscale('log')\n",
    "axes[1].set_yscale('log')\n",
    "axes[0].legend(fontsize = legfont)\n",
    "\n",
    "\n"
   ]
  },
  {
   "cell_type": "code",
   "execution_count": 15,
   "metadata": {},
   "outputs": [
    {
     "data": {
      "text/plain": [
       "[0.016666666666666666,\n",
       " 0.016666666666666666,\n",
       " 0.016666666666666666,\n",
       " 0.016666666666666666,\n",
       " 0.016666666666666666,\n",
       " 0.016666666666666666,\n",
       " 0.016666666666666666,\n",
       " 0.016666666666666666,\n",
       " 0.016666666666666666,\n",
       " 0.016666666666666666,\n",
       " 0.016666666666666666,\n",
       " 0.016666666666666666,\n",
       " 0.016666666666666666,\n",
       " 0.016666666666666666,\n",
       " 0.016666666666666666,\n",
       " 0.016666666666666666,\n",
       " 0.016666666666666666,\n",
       " 0.016666666666666666]"
      ]
     },
     "execution_count": 15,
     "metadata": {},
     "output_type": "execute_result"
    }
   ],
   "source": [
    "[1/60]*len(meas_x)"
   ]
  }
 ],
 "metadata": {
  "kernelspec": {
   "display_name": "Python 3",
   "language": "python",
   "name": "python3"
  },
  "language_info": {
   "codemirror_mode": {
    "name": "ipython",
    "version": 3
   },
   "file_extension": ".py",
   "mimetype": "text/x-python",
   "name": "python",
   "nbconvert_exporter": "python",
   "pygments_lexer": "ipython3",
   "version": "3.7.6"
  }
 },
 "nbformat": 4,
 "nbformat_minor": 4
}
